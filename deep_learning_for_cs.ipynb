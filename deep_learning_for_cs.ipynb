{
 "cells": [
  {
   "cell_type": "code",
   "execution_count": 140,
   "id": "8544426c-40df-4422-be7e-0bf68de6877a",
   "metadata": {},
   "outputs": [],
   "source": [
    "import pandas as pd\n",
    "import numpy as np\n",
    "from sklearn.model_selection import train_test_split\n",
    "from sklearn.preprocessing import LabelEncoder, StandardScaler\n",
    "from sklearn.metrics import accuracy_score, precision_recall_fscore_support\n",
    "import torch\n",
    "import torch.nn as nn\n",
    "import torch.optim as optim\n",
    "from torch.utils.data import DataLoader, TensorDataset\n",
    "import matplotlib.pyplot as plt\n",
    "%matplotlib inline"
   ]
  },
  {
   "cell_type": "code",
   "execution_count": 141,
   "id": "0854b7d6-1bdc-4ce9-95f0-0b65a67a798a",
   "metadata": {},
   "outputs": [],
   "source": [
    "# Set random seed for reproducibility\n",
    "torch.manual_seed(31)\n",
    "np.random.seed(31)"
   ]
  },
  {
   "cell_type": "code",
   "execution_count": 142,
   "id": "f1e9f975-6732-4e6c-93e8-d276908155e8",
   "metadata": {},
   "outputs": [
    {
     "data": {
      "text/plain": [
       "Missile Name\n",
       "Scud-C          27\n",
       "KN-02           20\n",
       "Nodong          15\n",
       "Scud-B          10\n",
       "Musudan          8\n",
       "ER Scud          8\n",
       "KN-23            8\n",
       "Hwasong-12       6\n",
       "Pukguksong-1     6\n",
       "KN-25            5\n",
       "KN-24            4\n",
       "Unha-3           3\n",
       "Scud-B MaRV      3\n",
       "Hwasong-14       2\n",
       "Unknown          2\n",
       "Pukguksong-2     2\n",
       "Unha             2\n",
       "Taepodong-1      1\n",
       "Scud-C MaRV      1\n",
       "Hwasong-15       1\n",
       "Pukguksong-3     1\n",
       "Name: count, dtype: int64"
      ]
     },
     "execution_count": 142,
     "metadata": {},
     "output_type": "execute_result"
    }
   ],
   "source": [
    "# Load the CSV file\n",
    "df = pd.read_csv('north_korea_missile_test_database.csv')\n",
    "\n",
    "df = df.drop(columns = [\"F1\", \"Date\", \"Date Entered/Updated\", \"Other Name\", \"Additional Information\", \"Source(s)\"], axis = 1, errors = \"ignore\")\n",
    "\n",
    "df[\"Missile Name\"].value_counts()"
   ]
  },
  {
   "cell_type": "code",
   "execution_count": 143,
   "id": "f116d478-e53d-4443-aef5-ac127abb030c",
   "metadata": {},
   "outputs": [],
   "source": [
    "# Clean data\n",
    "df = df.replace(['Unknown', ''], np.nan)\n",
    "\n",
    "# Clean numerical columns\n",
    "for col in ['Apogee', 'Distance Travelled','Facility Latitude', 'Facility Longitude']:\n",
    "    if col in df.columns:\n",
    "        df[col] = df[col].astype(str).str.replace(' km', '', regex=False).str.replace(',', '', regex=False)\n",
    "        df[col] = pd.to_numeric(df[col], errors='coerce')\n",
    "\n",
    "# Handle missing values\n",
    "numerical_cols = ['Facility Latitude', 'Facility Longitude', 'Apogee', 'Distance Travelled']\n",
    "categorical_cols = ['Launch Time (UTC)', 'Missile Type', 'Launch Agency/Authority', \n",
    "                   'Facility Name', 'Facility Location', 'Landing Location', \n",
    "                   'Confirmation Status', 'Test Outcome']\n",
    "\n",
    "for col in numerical_cols:\n",
    "    if col in df.columns:\n",
    "        df[col] = df[col].fillna(df[col].mean())\n",
    "\n",
    "for col in categorical_cols:\n",
    "    if col in df.columns:\n",
    "        df[col] = df[col].fillna('Unknown')\n"
   ]
  },
  {
   "cell_type": "code",
   "execution_count": 144,
   "id": "b2a0dd49-34cf-48da-97b7-35256772411e",
   "metadata": {},
   "outputs": [],
   "source": [
    "# Target\n",
    "target = 'Missile Name'\n",
    "y = df[target]\n",
    "X = df.drop(columns=[target])\n"
   ]
  },
  {
   "cell_type": "code",
   "execution_count": 145,
   "id": "03302d7c-5b60-437e-b58e-e35f9e8efb71",
   "metadata": {},
   "outputs": [],
   "source": [
    "# Encode categoricals with LabelEncoder\n",
    "label_encoders = {}\n",
    "for col in categorical_cols:\n",
    "    if col in X.columns:\n",
    "        label = LabelEncoder()\n",
    "        X[col] = label.fit_transform(X[col].astype(str))\n",
    "        label_encoders[col] = label \n",
    "\n",
    "# Scale numerical features\n",
    "scaler = StandardScaler()\n",
    "X[numerical_cols] = scaler.fit_transform(X[numerical_cols])\n",
    "\n",
    "# Encode target\n",
    "label_target = LabelEncoder()\n",
    "y_encoded = label_target.fit_transform(y)"
   ]
  },
  {
   "cell_type": "code",
   "execution_count": 146,
   "id": "c8c67b61-70d6-48cf-98a8-2160cd9b0372",
   "metadata": {},
   "outputs": [],
   "source": [
    "# Split data: 60% train, 20% val, 20% test\n",
    "X_train_val, X_test, y_train_val, y_test = train_test_split(X, y_encoded, test_size=0.2, random_state=31)\n",
    "X_train, X_val, y_train, y_val = train_test_split(X_train_val, y_train_val, test_size=0.25, random_state=31)\n",
    "\n",
    "# Convert to tensors\n",
    "X_train_tensor = torch.FloatTensor(X_train.values)\n",
    "y_train_tensor = torch.LongTensor(y_train)\n",
    "X_val_tensor = torch.FloatTensor(X_val.values)\n",
    "y_val_tensor = torch.LongTensor(y_val)\n",
    "X_test_tensor = torch.FloatTensor(X_test.values)\n",
    "y_test_tensor = torch.LongTensor(y_test)\n"
   ]
  },
  {
   "cell_type": "code",
   "execution_count": 147,
   "id": "d183bd3b-a2f6-491d-b710-f75f02293416",
   "metadata": {},
   "outputs": [],
   "source": [
    "# Datasets\n",
    "batch_size = 16  # Adjust based on dataset size\n",
    "train_ds = TensorDataset(X_train_tensor, y_train_tensor)\n",
    "val_ds = TensorDataset(X_val_tensor, y_val_tensor)\n",
    "test_ds = TensorDataset(X_test_tensor, y_test_tensor)\n",
    "\n",
    "# Dataloaders\n",
    "train_loader = DataLoader(train_ds, batch_size = batch_size, shuffle = True)\n",
    "val_loader = DataLoader(val_ds, batch_size = batch_size)\n",
    "test_loader = DataLoader(test_ds, batch_size = batch_size)\n"
   ]
  },
  {
   "cell_type": "code",
   "execution_count": 153,
   "id": "8c4d997c-75ea-4ae7-a4a0-bb6eff1be6a0",
   "metadata": {},
   "outputs": [],
   "source": [
    "# Define the neural network\n",
    "class MissileClassifier(nn.Module):\n",
    "    def __init__(self, input_size, num_classes):\n",
    "        super().__init__()\n",
    "        self.fc1 = nn.Linear(input_size, 128)\n",
    "        self.fc2 = nn.Linear(128, 64)\n",
    "        self.fc3 = nn.Linear(64, num_classes)\n",
    "    \n",
    "    def forward(self, x):\n",
    "        x = torch.relu(self.fc1(x))\n",
    "        x = torch.relu(self.fc2(x))\n",
    "        return self.fc3(x)\n",
    "\n",
    "input_size = X.shape[1]\n",
    "num_classes = len(label_target.classes_)\n",
    "model = MissileClassifier(input_size, num_classes)"
   ]
  },
  {
   "cell_type": "code",
   "execution_count": 154,
   "id": "3c836913-69d9-4278-8af7-523be358c2fd",
   "metadata": {},
   "outputs": [],
   "source": [
    "# Loss and optimizer\n",
    "criterion = nn.CrossEntropyLoss()\n",
    "optimizer = optim.Adam(model.parameters(), lr=0.001)\n"
   ]
  },
  {
   "cell_type": "code",
   "execution_count": 162,
   "id": "bf54b137-d8d4-4317-8180-ac02ffe90e3d",
   "metadata": {},
   "outputs": [
    {
     "name": "stdout",
     "output_type": "stream",
     "text": [
      "Epoch 1/100, Val Loss: 3.2924\n",
      "Epoch 11/100, Val Loss: 3.2135\n",
      "Epoch 21/100, Val Loss: 3.3391\n",
      "Epoch 31/100, Val Loss: 3.3959\n",
      "Epoch 41/100, Val Loss: 3.3850\n",
      "Epoch 51/100, Val Loss: 3.4547\n",
      "Epoch 61/100, Val Loss: 3.3967\n",
      "Epoch 71/100, Val Loss: 3.5881\n",
      "Epoch 81/100, Val Loss: 3.4990\n",
      "Epoch 91/100, Val Loss: 3.5764\n"
     ]
    }
   ],
   "source": [
    "# Training loop\n",
    "epochs = 100  # Adjust as needed\n",
    "for epoch in range(epochs):\n",
    "    model.train()\n",
    "    for inputs, labels in train_loader:\n",
    "        optimizer.zero_grad()\n",
    "        outputs = model(inputs)\n",
    "        loss = criterion(outputs, labels)\n",
    "        loss.backward()\n",
    "        optimizer.step()\n",
    "    \n",
    "    # Validation\n",
    "    model.eval()\n",
    "    val_loss = 0\n",
    "    with torch.no_grad():\n",
    "        for inputs, labels in val_loader:\n",
    "            outputs = model(inputs)\n",
    "            val_loss += criterion(outputs, labels).item()\n",
    "    val_loss /= len(val_loader)\n",
    "    \n",
    "    if epoch % 10 == 0:\n",
    "        print(f'Epoch {epoch+1}/{epochs}, Val Loss: {val_loss:.4f}')\n",
    "\n"
   ]
  },
  {
   "cell_type": "code",
   "execution_count": 163,
   "id": "f32ed1b4-129b-4bb9-aa08-df1c60604509",
   "metadata": {},
   "outputs": [
    {
     "name": "stdout",
     "output_type": "stream",
     "text": [
      "Test Accuracy: 77.78%\n"
     ]
    }
   ],
   "source": [
    "# Test the model\n",
    "model.eval()\n",
    "y_pred = []\n",
    "y_true = []\n",
    "with torch.no_grad():\n",
    "    for inputs, labels in test_loader:\n",
    "        outputs = model(inputs)\n",
    "        _, predicted = torch.max(outputs, 1)\n",
    "        y_pred.extend(predicted.numpy())\n",
    "        y_true.extend(labels.numpy())\n",
    "\n",
    "accuracy = accuracy_score(y_true, y_pred)\n",
    "print(f'Test Accuracy: {accuracy * 100:.2f}%')"
   ]
  },
  {
   "cell_type": "code",
   "execution_count": null,
   "id": "44a85dcd-f274-4084-914b-d6ad7f89db64",
   "metadata": {},
   "outputs": [],
   "source": []
  }
 ],
 "metadata": {
  "kernelspec": {
   "display_name": "PyTorch Env",
   "language": "python",
   "name": "pytorch_env"
  },
  "language_info": {
   "codemirror_mode": {
    "name": "ipython",
    "version": 3
   },
   "file_extension": ".py",
   "mimetype": "text/x-python",
   "name": "python",
   "nbconvert_exporter": "python",
   "pygments_lexer": "ipython3",
   "version": "3.13.5"
  }
 },
 "nbformat": 4,
 "nbformat_minor": 5
}
