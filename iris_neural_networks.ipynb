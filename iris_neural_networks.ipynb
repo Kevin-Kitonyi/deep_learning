{
 "cells": [
  {
   "cell_type": "code",
   "execution_count": 356,
   "id": "77586110-7c66-490c-8508-376018652808",
   "metadata": {},
   "outputs": [],
   "source": [
    "import torch\n",
    "import torch.nn as nn\n",
    "import torch.nn.functional as F\n",
    "import matplotlib.pyplot as plt\n",
    "%matplotlib inline\n",
    "import pandas as pd"
   ]
  },
  {
   "cell_type": "code",
   "execution_count": 357,
   "id": "ac5975f9-1265-4b5d-b04f-c1036feaf4be",
   "metadata": {},
   "outputs": [],
   "source": [
    "class IrisNet(nn.Module):\n",
    "    def __init__(self, input_features = 4, h1 = 8, h2 = 9, output_size = 3):\n",
    "        # Input layer(4 features of the flower) -->\n",
    "        # Hidden layer 1 (no of neurons) -->\n",
    "        # H2(n) -->\n",
    "        # Output (3 classes of the iris flower)\n",
    "        super().__init__() #Instanctiate our nn.Module\n",
    "        self.fc1 = nn.Linear(input_features, h1)  # Input layer to hidden layer\n",
    "        self.fc2 = nn.Linear(h1, h2)\n",
    "        self.out = nn.Linear(h2, output_size)  # Hidden layer to output layer\n",
    "    \n",
    "    def forward(self, x):\n",
    "        x = F.relu(self.fc1(x))\n",
    "        x = F.relu(self.fc2(x))\n",
    "        x = self.out(x)\n",
    "        return x\n"
   ]
  },
  {
   "cell_type": "code",
   "execution_count": 358,
   "id": "55161a07-5d23-428a-b643-54b6b916c564",
   "metadata": {},
   "outputs": [],
   "source": [
    "# Pick a manual seed for randomization\n",
    "torch.manual_seed(50)\n",
    "# Create instance of the Network\n",
    "model = IrisNet()"
   ]
  },
  {
   "cell_type": "code",
   "execution_count": 359,
   "id": "26f10b6c-25ce-48fd-81c5-54e3f4d7d451",
   "metadata": {},
   "outputs": [],
   "source": [
    "url = 'https://gist.githubusercontent.com/curran/a08a1080b88344b0c8a7/raw/0e7a9b0a5d22642a06d3d5b9bcbad9890c8ee534/iris.csv'\n",
    "my_df = pd.read_csv(url)\n"
   ]
  },
  {
   "cell_type": "code",
   "execution_count": 360,
   "id": "49dcc1c5-ec28-4fab-b6a5-9ac86b211f7e",
   "metadata": {},
   "outputs": [
    {
     "data": {
      "text/html": [
       "<div>\n",
       "<style scoped>\n",
       "    .dataframe tbody tr th:only-of-type {\n",
       "        vertical-align: middle;\n",
       "    }\n",
       "\n",
       "    .dataframe tbody tr th {\n",
       "        vertical-align: top;\n",
       "    }\n",
       "\n",
       "    .dataframe thead th {\n",
       "        text-align: right;\n",
       "    }\n",
       "</style>\n",
       "<table border=\"1\" class=\"dataframe\">\n",
       "  <thead>\n",
       "    <tr style=\"text-align: right;\">\n",
       "      <th></th>\n",
       "      <th>sepal_length</th>\n",
       "      <th>sepal_width</th>\n",
       "      <th>petal_length</th>\n",
       "      <th>petal_width</th>\n",
       "      <th>species</th>\n",
       "    </tr>\n",
       "  </thead>\n",
       "  <tbody>\n",
       "    <tr>\n",
       "      <th>0</th>\n",
       "      <td>5.1</td>\n",
       "      <td>3.5</td>\n",
       "      <td>1.4</td>\n",
       "      <td>0.2</td>\n",
       "      <td>setosa</td>\n",
       "    </tr>\n",
       "    <tr>\n",
       "      <th>1</th>\n",
       "      <td>4.9</td>\n",
       "      <td>3.0</td>\n",
       "      <td>1.4</td>\n",
       "      <td>0.2</td>\n",
       "      <td>setosa</td>\n",
       "    </tr>\n",
       "    <tr>\n",
       "      <th>2</th>\n",
       "      <td>4.7</td>\n",
       "      <td>3.2</td>\n",
       "      <td>1.3</td>\n",
       "      <td>0.2</td>\n",
       "      <td>setosa</td>\n",
       "    </tr>\n",
       "    <tr>\n",
       "      <th>3</th>\n",
       "      <td>4.6</td>\n",
       "      <td>3.1</td>\n",
       "      <td>1.5</td>\n",
       "      <td>0.2</td>\n",
       "      <td>setosa</td>\n",
       "    </tr>\n",
       "    <tr>\n",
       "      <th>4</th>\n",
       "      <td>5.0</td>\n",
       "      <td>3.6</td>\n",
       "      <td>1.4</td>\n",
       "      <td>0.2</td>\n",
       "      <td>setosa</td>\n",
       "    </tr>\n",
       "    <tr>\n",
       "      <th>...</th>\n",
       "      <td>...</td>\n",
       "      <td>...</td>\n",
       "      <td>...</td>\n",
       "      <td>...</td>\n",
       "      <td>...</td>\n",
       "    </tr>\n",
       "    <tr>\n",
       "      <th>145</th>\n",
       "      <td>6.7</td>\n",
       "      <td>3.0</td>\n",
       "      <td>5.2</td>\n",
       "      <td>2.3</td>\n",
       "      <td>virginica</td>\n",
       "    </tr>\n",
       "    <tr>\n",
       "      <th>146</th>\n",
       "      <td>6.3</td>\n",
       "      <td>2.5</td>\n",
       "      <td>5.0</td>\n",
       "      <td>1.9</td>\n",
       "      <td>virginica</td>\n",
       "    </tr>\n",
       "    <tr>\n",
       "      <th>147</th>\n",
       "      <td>6.5</td>\n",
       "      <td>3.0</td>\n",
       "      <td>5.2</td>\n",
       "      <td>2.0</td>\n",
       "      <td>virginica</td>\n",
       "    </tr>\n",
       "    <tr>\n",
       "      <th>148</th>\n",
       "      <td>6.2</td>\n",
       "      <td>3.4</td>\n",
       "      <td>5.4</td>\n",
       "      <td>2.3</td>\n",
       "      <td>virginica</td>\n",
       "    </tr>\n",
       "    <tr>\n",
       "      <th>149</th>\n",
       "      <td>5.9</td>\n",
       "      <td>3.0</td>\n",
       "      <td>5.1</td>\n",
       "      <td>1.8</td>\n",
       "      <td>virginica</td>\n",
       "    </tr>\n",
       "  </tbody>\n",
       "</table>\n",
       "<p>150 rows × 5 columns</p>\n",
       "</div>"
      ],
      "text/plain": [
       "     sepal_length  sepal_width  petal_length  petal_width    species\n",
       "0             5.1          3.5           1.4          0.2     setosa\n",
       "1             4.9          3.0           1.4          0.2     setosa\n",
       "2             4.7          3.2           1.3          0.2     setosa\n",
       "3             4.6          3.1           1.5          0.2     setosa\n",
       "4             5.0          3.6           1.4          0.2     setosa\n",
       "..            ...          ...           ...          ...        ...\n",
       "145           6.7          3.0           5.2          2.3  virginica\n",
       "146           6.3          2.5           5.0          1.9  virginica\n",
       "147           6.5          3.0           5.2          2.0  virginica\n",
       "148           6.2          3.4           5.4          2.3  virginica\n",
       "149           5.9          3.0           5.1          1.8  virginica\n",
       "\n",
       "[150 rows x 5 columns]"
      ]
     },
     "execution_count": 360,
     "metadata": {},
     "output_type": "execute_result"
    }
   ],
   "source": [
    "my_df"
   ]
  },
  {
   "cell_type": "code",
   "execution_count": 361,
   "id": "bc1f5a4e-ed45-491d-8e0a-7b766b833859",
   "metadata": {},
   "outputs": [
    {
     "name": "stderr",
     "output_type": "stream",
     "text": [
      "/tmp/ipykernel_5147/2001672143.py:4: FutureWarning: Downcasting behavior in `replace` is deprecated and will be removed in a future version. To retain the old behavior, explicitly call `result.infer_objects(copy=False)`. To opt-in to the future behavior, set `pd.set_option('future.no_silent_downcasting', True)`\n",
      "  my_df['species'] = my_df['species'].replace('virginica', 2.0)\n"
     ]
    },
    {
     "data": {
      "text/html": [
       "<div>\n",
       "<style scoped>\n",
       "    .dataframe tbody tr th:only-of-type {\n",
       "        vertical-align: middle;\n",
       "    }\n",
       "\n",
       "    .dataframe tbody tr th {\n",
       "        vertical-align: top;\n",
       "    }\n",
       "\n",
       "    .dataframe thead th {\n",
       "        text-align: right;\n",
       "    }\n",
       "</style>\n",
       "<table border=\"1\" class=\"dataframe\">\n",
       "  <thead>\n",
       "    <tr style=\"text-align: right;\">\n",
       "      <th></th>\n",
       "      <th>sepal_length</th>\n",
       "      <th>sepal_width</th>\n",
       "      <th>petal_length</th>\n",
       "      <th>petal_width</th>\n",
       "      <th>species</th>\n",
       "    </tr>\n",
       "  </thead>\n",
       "  <tbody>\n",
       "    <tr>\n",
       "      <th>0</th>\n",
       "      <td>5.1</td>\n",
       "      <td>3.5</td>\n",
       "      <td>1.4</td>\n",
       "      <td>0.2</td>\n",
       "      <td>0.0</td>\n",
       "    </tr>\n",
       "    <tr>\n",
       "      <th>1</th>\n",
       "      <td>4.9</td>\n",
       "      <td>3.0</td>\n",
       "      <td>1.4</td>\n",
       "      <td>0.2</td>\n",
       "      <td>0.0</td>\n",
       "    </tr>\n",
       "    <tr>\n",
       "      <th>2</th>\n",
       "      <td>4.7</td>\n",
       "      <td>3.2</td>\n",
       "      <td>1.3</td>\n",
       "      <td>0.2</td>\n",
       "      <td>0.0</td>\n",
       "    </tr>\n",
       "    <tr>\n",
       "      <th>3</th>\n",
       "      <td>4.6</td>\n",
       "      <td>3.1</td>\n",
       "      <td>1.5</td>\n",
       "      <td>0.2</td>\n",
       "      <td>0.0</td>\n",
       "    </tr>\n",
       "    <tr>\n",
       "      <th>4</th>\n",
       "      <td>5.0</td>\n",
       "      <td>3.6</td>\n",
       "      <td>1.4</td>\n",
       "      <td>0.2</td>\n",
       "      <td>0.0</td>\n",
       "    </tr>\n",
       "    <tr>\n",
       "      <th>...</th>\n",
       "      <td>...</td>\n",
       "      <td>...</td>\n",
       "      <td>...</td>\n",
       "      <td>...</td>\n",
       "      <td>...</td>\n",
       "    </tr>\n",
       "    <tr>\n",
       "      <th>145</th>\n",
       "      <td>6.7</td>\n",
       "      <td>3.0</td>\n",
       "      <td>5.2</td>\n",
       "      <td>2.3</td>\n",
       "      <td>2.0</td>\n",
       "    </tr>\n",
       "    <tr>\n",
       "      <th>146</th>\n",
       "      <td>6.3</td>\n",
       "      <td>2.5</td>\n",
       "      <td>5.0</td>\n",
       "      <td>1.9</td>\n",
       "      <td>2.0</td>\n",
       "    </tr>\n",
       "    <tr>\n",
       "      <th>147</th>\n",
       "      <td>6.5</td>\n",
       "      <td>3.0</td>\n",
       "      <td>5.2</td>\n",
       "      <td>2.0</td>\n",
       "      <td>2.0</td>\n",
       "    </tr>\n",
       "    <tr>\n",
       "      <th>148</th>\n",
       "      <td>6.2</td>\n",
       "      <td>3.4</td>\n",
       "      <td>5.4</td>\n",
       "      <td>2.3</td>\n",
       "      <td>2.0</td>\n",
       "    </tr>\n",
       "    <tr>\n",
       "      <th>149</th>\n",
       "      <td>5.9</td>\n",
       "      <td>3.0</td>\n",
       "      <td>5.1</td>\n",
       "      <td>1.8</td>\n",
       "      <td>2.0</td>\n",
       "    </tr>\n",
       "  </tbody>\n",
       "</table>\n",
       "<p>150 rows × 5 columns</p>\n",
       "</div>"
      ],
      "text/plain": [
       "     sepal_length  sepal_width  petal_length  petal_width  species\n",
       "0             5.1          3.5           1.4          0.2      0.0\n",
       "1             4.9          3.0           1.4          0.2      0.0\n",
       "2             4.7          3.2           1.3          0.2      0.0\n",
       "3             4.6          3.1           1.5          0.2      0.0\n",
       "4             5.0          3.6           1.4          0.2      0.0\n",
       "..            ...          ...           ...          ...      ...\n",
       "145           6.7          3.0           5.2          2.3      2.0\n",
       "146           6.3          2.5           5.0          1.9      2.0\n",
       "147           6.5          3.0           5.2          2.0      2.0\n",
       "148           6.2          3.4           5.4          2.3      2.0\n",
       "149           5.9          3.0           5.1          1.8      2.0\n",
       "\n",
       "[150 rows x 5 columns]"
      ]
     },
     "execution_count": 361,
     "metadata": {},
     "output_type": "execute_result"
    }
   ],
   "source": [
    "#Change large colum strings to integers\n",
    "my_df['species'] = my_df['species'].replace('setosa', 0.0)\n",
    "my_df['species'] = my_df['species'].replace('versicolor', 1.0)\n",
    "my_df['species'] = my_df['species'].replace('virginica', 2.0)\n",
    "my_df"
   ]
  },
  {
   "cell_type": "code",
   "execution_count": 362,
   "id": "e3a6afcc-ac33-4e9e-915a-86746ec05481",
   "metadata": {},
   "outputs": [],
   "source": [
    "# Train Test Split, Set X, y\n",
    "X = my_df.drop('species', axis = 1)\n",
    "y = my_df['species']"
   ]
  },
  {
   "cell_type": "code",
   "execution_count": 363,
   "id": "14bc8c5b-8b38-49e2-9d59-12b378ccb95d",
   "metadata": {},
   "outputs": [],
   "source": [
    "# Convert these to numpy arrays\n",
    "X = X.values \n",
    "y = y.values\n"
   ]
  },
  {
   "cell_type": "code",
   "execution_count": 364,
   "id": "41d4a3d1-ba59-4248-9485-a5b111ed5273",
   "metadata": {},
   "outputs": [],
   "source": [
    "from sklearn.model_selection import train_test_split"
   ]
  },
  {
   "cell_type": "code",
   "execution_count": 365,
   "id": "4538c504-ef04-49b7-be8e-294d589d518d",
   "metadata": {},
   "outputs": [],
   "source": [
    "# Train Test Split\n",
    "X_train, X_test, y_train, y_test = train_test_split(X, y, test_size = 0.2, random_state = 50)"
   ]
  },
  {
   "cell_type": "code",
   "execution_count": 366,
   "id": "7cf11233-f06a-4123-8eaa-3cbd205eb562",
   "metadata": {},
   "outputs": [],
   "source": [
    "#Convert X features to float tensors\n",
    "X_train = torch.FloatTensor(X_train)\n",
    "X_test = torch.FloatTensor(X_test)"
   ]
  },
  {
   "cell_type": "code",
   "execution_count": 367,
   "id": "8697f833-59a1-42be-a806-513e7a191d7b",
   "metadata": {},
   "outputs": [],
   "source": [
    "#Convert y labels to long tensors\n",
    "y_train = torch.LongTensor(y_train)\n",
    "y_test = torch.LongTensor(y_test)"
   ]
  },
  {
   "cell_type": "code",
   "execution_count": 368,
   "id": "9a80e2f3-1440-42f3-98f4-28f644188c82",
   "metadata": {},
   "outputs": [],
   "source": [
    "# Set criterion of model to measure the error, how far off from the predictions are we\n",
    "criterion = nn.CrossEntropyLoss()\n",
    "# Choose Adam optimizer, set learning rate lr( if error doesn't go down after a number of iterations(epochs) we lower our learning rate)\n",
    "optimizer = torch.optim.Adam(model.parameters(), lr = 0.01)\n"
   ]
  },
  {
   "cell_type": "code",
   "execution_count": 369,
   "id": "91c6e3ed-2d2e-481f-8d71-4ca8fcaa49d5",
   "metadata": {},
   "outputs": [
    {
     "data": {
      "text/plain": [
       "<bound method Module.parameters of IrisNet(\n",
       "  (fc1): Linear(in_features=4, out_features=8, bias=True)\n",
       "  (fc2): Linear(in_features=8, out_features=9, bias=True)\n",
       "  (out): Linear(in_features=9, out_features=3, bias=True)\n",
       ")>"
      ]
     },
     "execution_count": 369,
     "metadata": {},
     "output_type": "execute_result"
    }
   ],
   "source": [
    "model.parameters"
   ]
  },
  {
   "cell_type": "code",
   "execution_count": 370,
   "id": "37052757-fb84-409e-a211-454d66d1f2af",
   "metadata": {},
   "outputs": [
    {
     "name": "stdout",
     "output_type": "stream",
     "text": [
      "Epoch: 0 and loss: 1.1180381774902344\n",
      "Epoch: 10 and loss: 1.0925915241241455\n",
      "Epoch: 20 and loss: 1.0695574283599854\n",
      "Epoch: 30 and loss: 1.047658085823059\n",
      "Epoch: 40 and loss: 1.0262726545333862\n",
      "Epoch: 50 and loss: 1.0047558546066284\n",
      "Epoch: 60 and loss: 0.9830245971679688\n",
      "Epoch: 70 and loss: 0.9615724086761475\n",
      "Epoch: 80 and loss: 0.9406844973564148\n",
      "Epoch: 90 and loss: 0.918308436870575\n"
     ]
    }
   ],
   "source": [
    "# Train our model \n",
    "# Epochs? (one run through all the training data in our network)\n",
    "epochs = 100\n",
    "losses = []\n",
    "for i in range(epochs):\n",
    "    # Go forward and get a prediction\n",
    "    y_pred = model.forward(X_train) # Get predicted results\n",
    "\n",
    "    # Measure the error, its going to be high at first\n",
    "    loss = criterion(y_pred, y_train) # Predicted value vs the y_train value\n",
    "\n",
    "    # Keep track of our losses\n",
    "    losses.append(loss.detach().numpy())\n",
    "\n",
    "    # Print every 10 epoch\n",
    "    if i % 10 == 0:\n",
    "        print(f'Epoch: {i} and loss: {loss}')\n",
    "\n",
    "        # Do some backpropagation:take the error rate and feed it back through the network to fine tune the weights\n",
    "        optimizer.zero_grad()\n",
    "        loss.backward()\n",
    "        optimizer.step()\n",
    "    "
   ]
  },
  {
   "cell_type": "code",
   "execution_count": 371,
   "id": "12bd8e1e-daad-4970-95d2-081c8b057ea2",
   "metadata": {},
   "outputs": [
    {
     "data": {
      "image/png": "[encoded data removed]",
      "text/plain": [
       "<Figure size 640x480 with 1 Axes>"
      ]
     },
     "metadata": {},
     "output_type": "display_data"
    }
   ],
   "source": [
    "# Graph it out\n",
    "plt.plot(range(epochs), losses)\n",
    "plt.ylabel(\"loss/error\")\n",
    "plt.xlabel(\"Epoch\")\n",
    "plt.show()"
   ]
  },
  {
   "cell_type": "code",
   "execution_count": 372,
   "id": "1d8850dd-a1a7-4ad7-8eb3-9e3122a613f7",
   "metadata": {},
   "outputs": [],
   "source": [
    "# Evaluate our model on test data set (validate the model on test data)\n",
    "with torch.no_grad(): # Turning off backpropagation\n",
    "    y_eval = model.forward(X_test) # X_testt are features from our test set, y_eval will be predictions\n",
    "    loss = criterion(y_eval, y_test) # Find loss or the error"
   ]
  },
  {
   "cell_type": "code",
   "execution_count": 373,
   "id": "f2d5a60d-eab9-4fe7-b582-7bb064e10ace",
   "metadata": {},
   "outputs": [
    {
     "data": {
      "text/plain": [
       "tensor(0.9105)"
      ]
     },
     "execution_count": 373,
     "metadata": {},
     "output_type": "execute_result"
    }
   ],
   "source": [
    "loss"
   ]
  },
  {
   "cell_type": "code",
   "execution_count": 374,
   "id": "b8305558-4ed2-4755-a17a-207fa8c0d6ab",
   "metadata": {},
   "outputs": [
    {
     "name": "stdout",
     "output_type": "stream",
     "text": [
      "1 tensor([0.1611, 0.1441, 0.2066]) \t versicolor \t 2 \n",
      "2 tensor([0.0673, 0.3160, 0.3005]) \t versicolor \t 1 \n",
      "3 tensor([ 0.5830, -0.2923, -0.2730]) \t setosa \t 0 \n",
      "4 tensor([ 0.6579, -0.3933, -0.3259]) \t setosa \t 0 \n",
      "5 tensor([0.0418, 0.2766, 0.3329]) \t virginica \t 2 \n",
      "6 tensor([0.0214, 0.2719, 0.3386]) \t virginica \t 2 \n",
      "7 tensor([-0.0054,  0.3085,  0.3444]) \t virginica \t 2 \n",
      "8 tensor([ 0.5410, -0.2472, -0.2284]) \t setosa \t 0 \n",
      "9 tensor([ 0.5383, -0.2431, -0.2391]) \t setosa \t 0 \n",
      "10 tensor([0.0838, 0.3215, 0.2687]) \t versicolor \t 1 \n",
      "11 tensor([ 0.5842, -0.3044, -0.2729]) \t setosa \t 0 \n",
      "12 tensor([0.0080, 0.3604, 0.3400]) \t virginica \t 1 \n",
      "13 tensor([ 0.5469, -0.2505, -0.2421]) \t setosa \t 0 \n",
      "14 tensor([0.0262, 0.2960, 0.3377]) \t virginica \t 2 \n",
      "15 tensor([0.0958, 0.2349, 0.2867]) \t versicolor \t 2 \n",
      "16 tensor([ 0.5269, -0.2213, -0.2266]) \t setosa \t 0 \n",
      "17 tensor([0.1981, 0.1746, 0.1783]) \t versicolor \t 0 \n",
      "18 tensor([ 0.6273, -0.3628, -0.3086]) \t setosa \t 0 \n",
      "19 tensor([0.1877, 0.2128, 0.1938]) \t versicolor \t 1 \n",
      "20 tensor([0.1137, 0.2472, 0.2758]) \t versicolor \t 2 \n",
      "21 tensor([0.0344, 0.2117, 0.3342]) \t virginica \t 2 \n",
      "22 tensor([0.1637, 0.2288, 0.2172]) \t versicolor \t 1 \n",
      "23 tensor([ 0.7059, -0.4431, -0.3781]) \t setosa \t 0 \n",
      "24 tensor([0.0918, 0.2227, 0.3036]) \t virginica \t 2 \n",
      "25 tensor([0.1849, 0.1813, 0.2011]) \t versicolor \t 2 \n",
      "26 tensor([-0.0109,  0.3937,  0.3484]) \t virginica \t 1 \n",
      "27 tensor([0.1474, 0.1511, 0.2259]) \t versicolor \t 2 \n",
      "28 tensor([0.1529, 0.2367, 0.2363]) \t versicolor \t 1 \n",
      "29 tensor([0.1904, 0.1774, 0.1916]) \t versicolor \t 2 \n",
      "30 tensor([0.0278, 0.2627, 0.3371]) \t virginica \t 2 \n",
      "We got 21 correct\n"
     ]
    }
   ],
   "source": [
    "correct = 0\n",
    "with torch.no_grad():\n",
    "    for i, data in enumerate(X_test):\n",
    "        y_val = model.forward(data)\n",
    "\n",
    "        if y_test[i] == 0:\n",
    "            x = \"setosa\"\n",
    "        elif y_test[i] == 1:\n",
    "            x = \"versicolor\"\n",
    "        elif y_test[i] == 2:\n",
    "            x = \"virginica\"\n",
    "        \n",
    "        # Will tell us the type of flower the network thinks it is\n",
    "        print(f'{i+1} {str(y_val)} \\t {x} \\t {y_val.argmax().item()} ')\n",
    "\n",
    "        # Correct or not\n",
    "        if y_val.argmax().item() == y_test[i]:\n",
    "            correct += 1\n",
    "\n",
    "print (f'We got {correct} correct')"
   ]
  },
  {
   "cell_type": "code",
   "execution_count": 375,
   "id": "1e876c8e-02f7-4c44-8f91-f79976571eb8",
   "metadata": {},
   "outputs": [],
   "source": [
    "new_iris = torch.tensor([4.7,3.2, 1.3, 0.2])"
   ]
  },
  {
   "cell_type": "code",
   "execution_count": 376,
   "id": "83a405ea-cf5e-4349-8368-cee177e2dfcd",
   "metadata": {},
   "outputs": [
    {
     "name": "stdout",
     "output_type": "stream",
     "text": [
      "tensor([ 0.5582, -0.2793, -0.2516]) \t 0 \t virginica \n"
     ]
    }
   ],
   "source": [
    "with torch.no_grad():\n",
    "    print(f'{model(new_iris)} \\t {model(new_iris).argmax().item()} \\t {x} ')"
   ]
  },
  {
   "cell_type": "code",
   "execution_count": 377,
   "id": "24fbeea8-fcbf-40dc-b5ee-e56d82a8c0e2",
   "metadata": {},
   "outputs": [],
   "source": [
    "newer_iris = torch.tensor([5.9, 3.0, 5.1, 1.8])"
   ]
  },
  {
   "cell_type": "code",
   "execution_count": 378,
   "id": "f448a211-8f1a-40bc-8f07-173d072086cb",
   "metadata": {},
   "outputs": [
    {
     "name": "stdout",
     "output_type": "stream",
     "text": [
      "tensor([0.0246, 0.2532, 0.3374])  \t 2 \n"
     ]
    }
   ],
   "source": [
    "with torch.no_grad():\n",
    "    print(f'{model(newer_iris)}  \\t {model(newer_iris).argmax().item()} ')"
   ]
  },
  {
   "cell_type": "code",
   "execution_count": 379,
   "id": "244d2189-a252-4e4c-9d4b-9bf90e1584e6",
   "metadata": {},
   "outputs": [],
   "source": [
    "# Save the model\n",
    "torch.save(model.state_dict(), 'my_iris_model.pt')"
   ]
  },
  {
   "cell_type": "code",
   "execution_count": 380,
   "id": "4cec27aa-c004-4564-b54e-fce67268c38c",
   "metadata": {},
   "outputs": [
    {
     "data": {
      "text/plain": [
       "<All keys matched successfully>"
      ]
     },
     "execution_count": 380,
     "metadata": {},
     "output_type": "execute_result"
    }
   ],
   "source": [
    "# Load the saved model\n",
    "new_model = IrisNet()\n",
    "new_model.load_state_dict(torch.load('my_iris_model.pt'))"
   ]
  },
  {
   "cell_type": "code",
   "execution_count": 381,
   "id": "bf372b6c-3bda-4ce4-ad67-4d136ad90b77",
   "metadata": {},
   "outputs": [
    {
     "data": {
      "text/plain": [
       "IrisNet(\n",
       "  (fc1): Linear(in_features=4, out_features=8, bias=True)\n",
       "  (fc2): Linear(in_features=8, out_features=9, bias=True)\n",
       "  (out): Linear(in_features=9, out_features=3, bias=True)\n",
       ")"
      ]
     },
     "execution_count": 381,
     "metadata": {},
     "output_type": "execute_result"
    }
   ],
   "source": [
    "new_model.eval()"
   ]
  },
  {
   "cell_type": "markdown",
   "id": "69adee0e-55a7-48bf-a6f1-0f145a490739",
   "metadata": {},
   "source": []
  }
 ],
 "metadata": {
  "kernelspec": {
   "display_name": "PyTorch Env",
   "language": "python",
   "name": "pytorch_env"
  },
  "language_info": {
   "codemirror_mode": {
    "name": "ipython",
    "version": 3
   },
   "file_extension": ".py",
   "mimetype": "text/x-python",
   "name": "python",
   "nbconvert_exporter": "python",
   "pygments_lexer": "ipython3",
   "version": "3.13.5"
  }
 },
 "nbformat": 4,
 "nbformat_minor": 5
}
